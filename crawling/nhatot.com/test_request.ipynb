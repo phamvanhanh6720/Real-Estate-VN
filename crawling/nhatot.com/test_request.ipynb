{
 "cells": [
  {
   "cell_type": "code",
   "execution_count": 2,
   "metadata": {
    "collapsed": true,
    "ExecuteTime": {
     "end_time": "2023-06-28T08:43:56.235827Z",
     "start_time": "2023-06-28T08:43:56.232224Z"
    }
   },
   "outputs": [],
   "source": [
    "import requests\n",
    "from bs4 import BeautifulSoup\n",
    "import json\n",
    "\n",
    "import warnings\n",
    "warnings.filterwarnings('ignore')"
   ]
  },
  {
   "cell_type": "code",
   "execution_count": 6,
   "outputs": [],
   "source": [
    "url = 'https://www.nhatot.com/mua-ban-bat-dong-san-ha-noi?page=506'\n",
    "api = 'https://gateway.chotot.com/v1/public/ad-listing/107704944'\n",
    "\n",
    "response = requests.get(api)\n",
    "\n",
    "soup = BeautifulSoup(response.content, 'html.parser')"
   ],
   "metadata": {
    "collapsed": false,
    "ExecuteTime": {
     "end_time": "2023-06-28T08:45:34.815607Z",
     "start_time": "2023-06-28T08:45:34.328375Z"
    }
   }
  },
  {
   "cell_type": "code",
   "execution_count": 7,
   "outputs": [
    {
     "data": {
      "text/plain": "200"
     },
     "execution_count": 7,
     "metadata": {},
     "output_type": "execute_result"
    }
   ],
   "source": [
    "response.status_code"
   ],
   "metadata": {
    "collapsed": false,
    "ExecuteTime": {
     "end_time": "2023-06-28T08:45:35.975163Z",
     "start_time": "2023-06-28T08:45:35.970020Z"
    }
   }
  },
  {
   "cell_type": "code",
   "execution_count": 9,
   "outputs": [
    {
     "data": {
      "text/plain": "{'ad': {'ad_id': 147396096,\n  'list_id': 107704944,\n  'list_time': 1687924029000,\n  'date': '5 giờ trước',\n  'account_id': 18365823,\n  'account_oid': 'f1736f8d57b2d87c4871e3b4c62f2e32',\n  'account_name': 'Hương',\n  'subject': 'Bán lô đất 43m2, Cửu việt 2, Ngõ thông oto vào được  Giá 3tỷ',\n  'body': 'Cần bán lô đất 43m2 Cửu Việt, Trâu Quỳ, Gia Lâm \\nMặt tiền :4,2m vuông,  đẹp \\nGần gần Bệnh Viện Đa Khoa  Gia Lâm, trung tâm hành chính, các trường tiểu học, mầm non, trạm y tế phường, chợ cóc, ngõ thông oto đi lại thuận tiện.vv.. hàng xóm thân thiện dễ gần….\\nSổ đỏ nét căng, \\nGiá 3tỷ có thương lượng',\n  'category': 1040,\n  'category_name': 'Đất',\n  'area': 123,\n  'area_name': 'Huyện Gia Lâm',\n  'region': 12,\n  'region_name': 'Hà Nội',\n  'company_ad': True,\n  'type': 's',\n  'price': 3100000000,\n  'price_string': '3,1 tỷ',\n  'webp_image': 'https://cdn.chotot.com/F-rZFe2sjwfyAXn2OA4UIbJb1XwExMFbHWNKTW2lIpU/preset:listing/plain/f1398a6169be26c0d000f344278612f0-2831865842402910913.webp',\n  'videos': [],\n  'images': ['https://cdn.chotot.com/7z8KtDNkQAkV822KxqAi-cc1Wep5kr8leaiejTyfhIs/preset:view/plain/f1398a6169be26c0d000f344278612f0-2831865842402910913.jpg',\n   'https://cdn.chotot.com/05sKQIfV_93reQcP3bllahNO4-wf6E4fRXKeLbmMhbE/preset:view/plain/dae7cddfeca1f586bb5154417e65c16d-2831865852504963402.jpg',\n   'https://cdn.chotot.com/v6ZFZr19y2rCQB1iOTq881SH2qHsjnIIN18pi2wgbJo/preset:view/plain/3ad9e2853985dea75fa97bfbec772102-2831865865578327497.jpg'],\n  'number_of_images': 3,\n  'avatar': 'https://cdn.chotot.com/uac2/18365823',\n  'size': 43,\n  'region_v2': 12000,\n  'area_v2': 12123,\n  'ward': 192,\n  'ward_name': 'Thị trấn Trâu Quỳ',\n  'pty_map': 'https://cdn.chotot.com/admincentre/location/21x008640_105x938475_c.jpg',\n  'pty_map_modifier': 0.0008,\n  'price_million_per_m2': 72.09302325581395,\n  'land_type': 1,\n  'contain_videos': 2,\n  'location': '21.00784,105.937675',\n  'longitude': 105.937675,\n  'latitude': 21.00784,\n  'phone': '091486****',\n  'type_name': 'Cần bán',\n  'reviewer_image': 'https://static.chotot.com.vn/thumbs/admin/9999999701.png',\n  'reviewer_nickname': 'Đức Nguyên',\n  'thumbnail_image': 'https://cdn.chotot.com/pOnDnGATOBdYJ4Z03T2xsFa1LzJitnFUpp6yij71FEk/preset:listing/plain/f1398a6169be26c0d000f344278612f0-2831865842402910913.jpg',\n  'owner': False,\n  'protection_entitlement': False,\n  'escrow_can_deposit': 2,\n  'zero_deposit': False,\n  'street_name': 'Trâu Quỳ,',\n  'pty_jupiter': '0',\n  'label_campaigns': None,\n  'ad_labels': None},\n 'parameters': [{'id': 'ward',\n   'value': 'Thị trấn Trâu Quỳ',\n   'label': 'Phường, thị xã, thị trấn'},\n  {'id': 'size', 'value': '43 m²', 'label': 'Diện tích'},\n  {'id': 'price_m2', 'value': '72,09 triệu/m²', 'label': 'Giá/m2'},\n  {'id': 'area', 'value': 'Huyện Gia Lâm', 'label': 'Quận, Huyện'},\n  {'id': 'region', 'value': 'Hà Nội', 'label': 'Tỉnh, thành phố'},\n  {'id': 'address',\n   'value': 'Trâu Quỳ,, Thị trấn Trâu Quỳ, Huyện Gia Lâm, Hà Nội',\n   'label': 'Địa chỉ'},\n  {'id': 'land_type', 'value': 'Đất thổ cư', 'label': 'Loại hình đất'}],\n 'ad_params': {'address': {'id': 'address',\n   'value': 'Trâu Quỳ,, Thị trấn Trâu Quỳ, Huyện Gia Lâm, Hà Nội',\n   'label': 'Địa chỉ'},\n  'area': {'id': 'area', 'value': 'Huyện Gia Lâm', 'label': 'Quận, Huyện'},\n  'land_type': {'id': 'land_type',\n   'value': 'Đất thổ cư',\n   'label': 'Loại hình đất'},\n  'price_m2': {'id': 'price_m2', 'value': '72,09 triệu/m²', 'label': 'Giá/m2'},\n  'region': {'id': 'region', 'value': 'Hà Nội', 'label': 'Tỉnh, thành phố'},\n  'size': {'id': 'size', 'value': '43 m²', 'label': 'Diện tích'},\n  'ward': {'id': 'ward',\n   'value': 'Thị trấn Trâu Quỳ',\n   'label': 'Phường, thị xã, thị trấn'}}}"
     },
     "execution_count": 9,
     "metadata": {},
     "output_type": "execute_result"
    }
   ],
   "source": [
    "json.loads(response.content)"
   ],
   "metadata": {
    "collapsed": false,
    "ExecuteTime": {
     "end_time": "2023-06-28T08:45:53.029349Z",
     "start_time": "2023-06-28T08:45:53.022372Z"
    }
   }
  },
  {
   "cell_type": "code",
   "execution_count": null,
   "outputs": [],
   "source": [],
   "metadata": {
    "collapsed": false
   }
  }
 ],
 "metadata": {
  "kernelspec": {
   "display_name": "Python 3",
   "language": "python",
   "name": "python3"
  },
  "language_info": {
   "codemirror_mode": {
    "name": "ipython",
    "version": 2
   },
   "file_extension": ".py",
   "mimetype": "text/x-python",
   "name": "python",
   "nbconvert_exporter": "python",
   "pygments_lexer": "ipython2",
   "version": "2.7.6"
  }
 },
 "nbformat": 4,
 "nbformat_minor": 0
}
