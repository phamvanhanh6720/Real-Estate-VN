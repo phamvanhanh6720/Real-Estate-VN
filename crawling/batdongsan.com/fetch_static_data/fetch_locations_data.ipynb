{
 "cells": [
  {
   "cell_type": "code",
   "execution_count": 19,
   "metadata": {
    "collapsed": true
   },
   "outputs": [],
   "source": [
    "import requests\n",
    "import json\n",
    "\n",
    "import pymongo"
   ]
  },
  {
   "cell_type": "code",
   "execution_count": 20,
   "outputs": [],
   "source": [
    "client = pymongo.MongoClient(\n",
    "    host='localhost',\n",
    "    port=27017,\n",
    "    username='root',\n",
    "    password='vanHANH6720',\n",
    "    authSource='admin',\n",
    "    authMechanism='SCRAM-SHA-1'\n",
    ")\n",
    "db = client['batdongsanDB']"
   ],
   "metadata": {
    "collapsed": false
   }
  },
  {
   "cell_type": "code",
   "execution_count": 29,
   "outputs": [],
   "source": [
    "client.close()"
   ],
   "metadata": {
    "collapsed": false
   }
  },
  {
   "cell_type": "code",
   "execution_count": 1,
   "outputs": [],
   "source": [
    "import undetected_chromedriver as uc\n",
    "import time\n",
    "\n",
    "options = uc.ChromeOptions()\n",
    "options.headless = True\n",
    "driver = uc.Chrome(use_subprocess=True, options=options)\n",
    "driver.get(\"https://www.datacamp.com/users/sign_in\")\n",
    "driver.maximize_window()\n",
    "time.sleep(20)\n",
    "driver.save_screenshot(\"datacamp.png\")\n",
    "driver.close()"
   ],
   "metadata": {
    "collapsed": false
   }
  },
  {
   "cell_type": "code",
   "execution_count": null,
   "outputs": [],
   "source": [],
   "metadata": {
    "collapsed": false
   }
  }
 ],
 "metadata": {
  "kernelspec": {
   "display_name": "Python 3",
   "language": "python",
   "name": "python3"
  },
  "language_info": {
   "codemirror_mode": {
    "name": "ipython",
    "version": 2
   },
   "file_extension": ".py",
   "mimetype": "text/x-python",
   "name": "python",
   "nbconvert_exporter": "python",
   "pygments_lexer": "ipython2",
   "version": "2.7.6"
  }
 },
 "nbformat": 4,
 "nbformat_minor": 0
}
